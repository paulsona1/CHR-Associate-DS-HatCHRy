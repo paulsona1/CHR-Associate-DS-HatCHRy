{
 "cells": [
  {
   "cell_type": "code",
   "execution_count": null,
   "id": "13b174c1",
   "metadata": {},
   "outputs": [],
   "source": [
    "# Initializations\n",
    "library(ggplot2)\n",
    "library(e1071)\n",
    "library(nnet)\n",
    "install.packages(\"ISLR\")\n",
    "install.packages(\"tree\")\n",
    "library(tree)\n",
    "library(ISLR)"
   ]
  },
  {
   "cell_type": "code",
   "execution_count": null,
   "id": "1e123d6e",
   "metadata": {},
   "outputs": [],
   "source": [
    "# Data and notebook setup\n",
    "\n",
    "#### import, inspect data elements\n",
    "setwd(\"/Users/alecpaulson/Desktop\")\n",
    "raw <- read.csv(\"IMA Recommendation Simulation Data.csv\")\n",
    "raw <- subset(raw,select=-c(X))\n",
    "head(raw,10)\n",
    "names(raw)\n",
    "dim(raw) # data shape\n",
    "\n",
    "#### inspect levels of inferential target - there 7 non-missing levels of the inferential target\n",
    "unique(raw$CurrentCondition)\n",
    "raw1 <- raw[which(raw$CurrentCondition != \"\"),] # remove missing target level\n",
    "100* table(raw1$CurrentCondition) / dim(raw1)[1]"
   ]
  },
  {
   "cell_type": "code",
   "execution_count": null,
   "id": "6e97a188",
   "metadata": {},
   "outputs": [],
   "source": [
    "# Exploratory data analysis\n",
    "\n",
    "#### is request_id unique?\n",
    "\n",
    "length(unique(raw1$request_id)); dim(raw1) # appears to be one duplicate\n",
    "\n",
    "# find the duplicate, inspect it\n",
    "dups <- duplicated(raw1$request_id)\n",
    "\n",
    "#### this is a true duplicate. let's remove one of these duplicated rows from the sample, keep the other.\n",
    "raw1[raw1$request_id %in% unique(raw1$request_id[dups]),]\n",
    "raw2 <- raw1[!dups,]\n",
    "dim(raw2)\n",
    "\n",
    "#### Is there any missing data in this data set? If so, which columns have missing data?\n",
    "sapply(raw2, function(x) sum(is.na(x)))\n",
    "\n",
    "####  following features have missing data: (1) order_distance, (2) order_origin_weight, \n",
    "####  (3) rate_nrom, (4) est_cost_norm\n",
    "\n",
    "####  Are there any features you would consider highly correlated? Please limit this to two\n",
    "####  pairs and describe why you selected the two pairs. Demonstrate this correlation\n",
    "####  numerically and visually.\n",
    "\n",
    "####  make a couple of the variables character, based on data dictionary\n",
    "raw2$order_num_stops <- as.character(raw2$order_num_stops)\n",
    "raw2$origin_dat_ref <- as.character(raw2$origin_dat_ref)\n",
    "raw2$dest_dat_ref <- as.character(raw2$dest_dat_ref)\n",
    "raw2$week_id <- as.character(raw2$week_id)\n",
    "\n",
    "####  start with numeric variables\n",
    "num.cols <- unlist(lapply(raw2, is.numeric))\n",
    "names(raw2)[num.cols]\n",
    "cor(raw2[complete.cases(raw2),num.cols])\n",
    "####  ====> (1) miles/order_distance, (2) rate_nrom/est_cost_norm are highly correlated\n",
    "\n",
    "#### plot numeric variable pairs exhibiting correlation\n",
    "\n",
    "#### miles/order_distance appear to be linear functions of one another. But, there exists requests\n",
    "####  for which the miles are greater than zero, but order distance is zero. This makes better sense on \n",
    "####  inspection of the data dictionary.\n",
    "plotDat <-raw2[complete.cases(raw2),]\n",
    "ggplot(plotDat, aes(x=order_distance, y=miles, color=CurrentCondition)) +\n",
    "    geom_point() +\n",
    "    ggtitle(\"Scatter plot of Miles and Order_Distance\")\n",
    "\n",
    "####  shipment costs correlate with customer payments, makes sense.\n",
    "ggplot(plotDat, aes(x=rate_norm, y=est_cost_norm, color=CurrentCondition)) +\n",
    "    geom_point() +\n",
    "    ggtitle(\"Scatter plot of Rate_norm and Est_cost_norm\")\n",
    "\n",
    "#### assess correlations between target and categorical variables\n",
    "getHist <- function(var){\n",
    "    hist()\n",
    "}"
   ]
  },
  {
   "cell_type": "code",
   "execution_count": null,
   "id": "75ca1a2a",
   "metadata": {},
   "outputs": [],
   "source": [
    "# Classification modeling - 2 approaches\n",
    "\n",
    "raw2$CurrentCondition.f <- as.factor(raw2$CurrentCondition)\n",
    "raw3 <- subset(raw2, select = -c(CurrentCondition,request_id) )\n",
    "raw4 <- raw3[complete.cases(raw3),]\n",
    "\n",
    "set.seed(1212)\n",
    "train.size <- 6/10\n",
    "train.rows <- sample(1:dim(raw4)[1],round(dim(raw4)[1]*train.size),replace=FALSE)\n",
    "train.data <- raw4[train.rows,]\n",
    "test.data <- raw4[train.rows,]\n",
    "names(train.data)\n",
    "\n",
    "#### on this split order_num_stops has a single level. drop this variable\n",
    "#### drop date references - these are treated as intelligence-free in the model\n",
    "train.data <- subset(train.data,select = -c(order_num_stops))\n",
    "test.data <- subset(test.data,select = -c(order_num_stops))"
   ]
  },
  {
   "cell_type": "code",
   "execution_count": null,
   "id": "ae7cd74c",
   "metadata": {},
   "outputs": [],
   "source": [
    "## Try Naive Bayes\n",
    "\n",
    "#### model\n",
    "nb <- naiveBayes(CurrentCondition.f ~ .,data=train.data)\n",
    "summary(nb)\n",
    "table(predict(nb,test.data))\n",
    "results <- cbind(test.data$CurrentCondition.f,predict(nb,test.data))\n",
    "\n",
    "conf.mat.nb <- as.matrix(table(results[,1],results[,2]))"
   ]
  },
  {
   "cell_type": "code",
   "execution_count": null,
   "id": "4cdcc3b9",
   "metadata": {},
   "outputs": [],
   "source": [
    "100*(table(train.data[,14],train.data[,9]) / dim(train.data)[1])"
   ]
  },
  {
   "cell_type": "code",
   "execution_count": null,
   "id": "89b133ef",
   "metadata": {},
   "outputs": [],
   "source": [
    "## Try multinomial regression\n",
    "\n",
    "#### model \n",
    "mn.mod <- multinom(CurrentCondition.f ~ week_id+weekday+order_equipment_type+order_distance+\n",
    "                   order_origin_weight+lead_days+color+est_cost_norm, data =train.data)\n",
    "summary(mn.mod)\n",
    "preds <- predict(mn.mod,test.data)\n",
    "results <- as.data.frame(cbind(test.data$CurrentCondition.f,preds))\n",
    "\n",
    "conf.mat.mn <- as.matrix(table(results[,1],results[,2]))"
   ]
  },
  {
   "cell_type": "code",
   "execution_count": null,
   "id": "54d03bac",
   "metadata": {},
   "outputs": [],
   "source": [
    "### Results:\n",
    "conf.mat.mn\n",
    "print(paste(\"Error rate: \",1-(sum(c(50765,6998,15))/sum(conf.mat.mn)),sep=\"\"))\n",
    "conf.mat.nb\n",
    "print(paste(\"Error rate: \",1-(sum(diag(conf.mat.mn)))/sum(conf.mat.mn)),sep=\"\")"
   ]
  }
 ],
 "metadata": {
  "kernelspec": {
   "display_name": "R",
   "language": "R",
   "name": "ir"
  },
  "language_info": {
   "codemirror_mode": "r",
   "file_extension": ".r",
   "mimetype": "text/x-r-source",
   "name": "R",
   "pygments_lexer": "r",
   "version": "4.1.1"
  }
 },
 "nbformat": 4,
 "nbformat_minor": 5
}
